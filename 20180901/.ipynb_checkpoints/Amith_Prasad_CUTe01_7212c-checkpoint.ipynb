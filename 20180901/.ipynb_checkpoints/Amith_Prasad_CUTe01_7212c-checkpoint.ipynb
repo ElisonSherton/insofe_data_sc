{
 "cells": [
  {
   "cell_type": "markdown",
   "metadata": {},
   "source": [
    "# 2018-09-01 Cute Python "
   ]
  },
  {
   "cell_type": "markdown",
   "metadata": {},
   "source": [
    "2. a. Print all the integers till 1000 which are not a multiple of 8 but are divisible by 4, also print the count of such occurrences."
   ]
  },
  {
   "cell_type": "code",
   "execution_count": 80,
   "metadata": {},
   "outputs": [
    {
     "name": "stdout",
     "output_type": "stream",
     "text": [
      "12\n",
      "16\n",
      "20\n",
      "24\n",
      "28\n",
      "32\n",
      "36\n",
      "40\n",
      "44\n",
      "48\n",
      "52\n",
      "56\n",
      "60\n",
      "64\n",
      "68\n",
      "72\n",
      "76\n",
      "80\n",
      "84\n",
      "88\n",
      "92\n",
      "96\n",
      "100\n",
      "104\n",
      "108\n",
      "112\n",
      "116\n",
      "120\n",
      "124\n",
      "128\n",
      "132\n",
      "136\n",
      "140\n",
      "144\n",
      "148\n",
      "152\n",
      "156\n",
      "160\n",
      "164\n",
      "168\n",
      "172\n",
      "176\n",
      "180\n",
      "184\n",
      "188\n",
      "192\n",
      "196\n",
      "200\n",
      "204\n",
      "208\n",
      "212\n",
      "216\n",
      "220\n",
      "224\n",
      "228\n",
      "232\n",
      "236\n",
      "240\n",
      "244\n",
      "248\n",
      "252\n",
      "256\n",
      "260\n",
      "264\n",
      "268\n",
      "272\n",
      "276\n",
      "280\n",
      "284\n",
      "288\n",
      "292\n",
      "296\n",
      "300\n",
      "304\n",
      "308\n",
      "312\n",
      "316\n",
      "320\n",
      "324\n",
      "328\n",
      "332\n",
      "336\n",
      "340\n",
      "344\n",
      "348\n",
      "352\n",
      "356\n",
      "360\n",
      "364\n",
      "368\n",
      "372\n",
      "376\n",
      "380\n",
      "384\n",
      "388\n",
      "392\n",
      "396\n",
      "400\n",
      "404\n",
      "408\n",
      "412\n",
      "416\n",
      "420\n",
      "424\n",
      "428\n",
      "432\n",
      "436\n",
      "440\n",
      "444\n",
      "448\n",
      "452\n",
      "456\n",
      "460\n",
      "464\n",
      "468\n",
      "472\n",
      "476\n",
      "480\n",
      "484\n",
      "488\n",
      "492\n",
      "496\n",
      "500\n",
      "504\n",
      "508\n",
      "512\n",
      "516\n",
      "520\n",
      "524\n",
      "528\n",
      "532\n",
      "536\n",
      "540\n",
      "544\n",
      "548\n",
      "552\n",
      "556\n",
      "560\n",
      "564\n",
      "568\n",
      "572\n",
      "576\n",
      "580\n",
      "584\n",
      "588\n",
      "592\n",
      "596\n",
      "600\n",
      "604\n",
      "608\n",
      "612\n",
      "616\n",
      "620\n",
      "624\n",
      "628\n",
      "632\n",
      "636\n",
      "640\n",
      "644\n",
      "648\n",
      "652\n",
      "656\n",
      "660\n",
      "664\n",
      "668\n",
      "672\n",
      "676\n",
      "680\n",
      "684\n",
      "688\n",
      "692\n",
      "696\n",
      "700\n",
      "704\n",
      "708\n",
      "712\n",
      "716\n",
      "720\n",
      "724\n",
      "728\n",
      "732\n",
      "736\n",
      "740\n",
      "744\n",
      "748\n",
      "752\n",
      "756\n",
      "760\n",
      "764\n",
      "768\n",
      "772\n",
      "776\n",
      "780\n",
      "784\n",
      "788\n",
      "792\n",
      "796\n",
      "800\n",
      "804\n",
      "808\n",
      "812\n",
      "816\n",
      "820\n",
      "824\n",
      "828\n",
      "832\n",
      "836\n",
      "840\n",
      "844\n",
      "848\n",
      "852\n",
      "856\n",
      "860\n",
      "864\n",
      "868\n",
      "872\n",
      "876\n",
      "880\n",
      "884\n",
      "888\n",
      "892\n",
      "896\n",
      "900\n",
      "904\n",
      "908\n",
      "912\n",
      "916\n",
      "920\n",
      "924\n",
      "928\n",
      "932\n",
      "936\n",
      "940\n",
      "944\n",
      "948\n",
      "952\n",
      "956\n",
      "960\n",
      "964\n",
      "968\n",
      "972\n",
      "976\n",
      "980\n",
      "984\n",
      "988\n",
      "992\n",
      "996\n",
      "1000\n",
      "Count:  248\n"
     ]
    }
   ],
   "source": [
    "# assuming 1000 is inclusive so taking range till 1001\n",
    "count = 0\n",
    "for i in range(1,1001):\n",
    "#     not multiple of 8 mean 8%i != 0 and divisible by 4 means i%4 == 0\n",
    "    if 8%i != 0 and i%4 == 0:\n",
    "        print(i)\n",
    "        count += 1\n",
    "print(\"Count: \",count)        \n",
    "        "
   ]
  },
  {
   "cell_type": "markdown",
   "metadata": {},
   "source": [
    "2. b. Create a list of 20 integers and write code for the following:"
   ]
  },
  {
   "cell_type": "code",
   "execution_count": 81,
   "metadata": {},
   "outputs": [
    {
     "name": "stdout",
     "output_type": "stream",
     "text": [
      "[33, 22, 85, 32, 38, 17, 25, 75, 98, 44, 15, 5, 82, 40, 29, 46, 13, 96, 60, 73]\n"
     ]
    }
   ],
   "source": [
    "import random\n",
    "\n",
    "# generating random 20 numbers\n",
    "int_arr = []\n",
    "for x in range(20):\n",
    "#     generating random integers b/w 1 and 100\n",
    "    int_arr.append(random.randint(1,100))\n",
    "print(int_arr)    "
   ]
  },
  {
   "cell_type": "markdown",
   "metadata": {},
   "source": [
    "Print the sum of the list of squared values"
   ]
  },
  {
   "cell_type": "code",
   "execution_count": 82,
   "metadata": {},
   "outputs": [
    {
     "name": "stdout",
     "output_type": "stream",
     "text": [
      "59190\n"
     ]
    }
   ],
   "source": [
    "sum = 0\n",
    "for x in int_arr:\n",
    "#     x**2 calculates the square and adding it to sum\n",
    "    sum += x**2\n",
    "\n",
    "print(sum)"
   ]
  },
  {
   "cell_type": "markdown",
   "metadata": {},
   "source": [
    "Print the odd values"
   ]
  },
  {
   "cell_type": "code",
   "execution_count": 83,
   "metadata": {},
   "outputs": [
    {
     "name": "stdout",
     "output_type": "stream",
     "text": [
      "33\n",
      "85\n",
      "17\n",
      "25\n",
      "75\n",
      "15\n",
      "5\n",
      "29\n",
      "13\n",
      "73\n"
     ]
    }
   ],
   "source": [
    "# this also works :)\n",
    "# for x in int_arr:\n",
    "#     if x%2 != 0:\n",
    "#         print(x)\n",
    "\n",
    "# inline implementation\n",
    "values = [print(x) for x in int_arr if x%2 != 0]"
   ]
  },
  {
   "cell_type": "markdown",
   "metadata": {},
   "source": [
    "Print the numbers that are divisible by 5 but are not divisible by 10"
   ]
  },
  {
   "cell_type": "code",
   "execution_count": 84,
   "metadata": {},
   "outputs": [
    {
     "name": "stdout",
     "output_type": "stream",
     "text": [
      "85\n",
      "25\n",
      "75\n",
      "15\n",
      "5\n"
     ]
    }
   ],
   "source": [
    "# again this works as well\n",
    "# for x in int_arr:\n",
    "#     if x%5 == 0 and x%10 != 0:\n",
    "#         print(x)\n",
    "\n",
    "# inline implementation\n",
    "values = [print(x) for x in int_arr if x%5 == 0 and x%10 != 0]"
   ]
  },
  {
   "cell_type": "markdown",
   "metadata": {},
   "source": [
    "Print the numbers that are not prime"
   ]
  },
  {
   "cell_type": "code",
   "execution_count": 85,
   "metadata": {},
   "outputs": [
    {
     "name": "stdout",
     "output_type": "stream",
     "text": [
      "33\n",
      "22\n",
      "85\n",
      "32\n",
      "38\n",
      "25\n",
      "75\n",
      "98\n",
      "44\n",
      "15\n",
      "82\n",
      "40\n",
      "46\n",
      "96\n",
      "60\n"
     ]
    }
   ],
   "source": [
    "def check_if_prime(num):\n",
    "    # prime numbers are greater than 1\n",
    "    if num > 1:\n",
    "        # check for factors\n",
    "        for i in range(2,num):\n",
    "            if (num % i) == 0:\n",
    "                print(num)\n",
    "                break\n",
    "    # if input number is less than or equal to 1, it is not prime\n",
    "    else:\n",
    "        print(num)\n",
    "\n",
    "for i in int_arr:\n",
    "    check_if_prime(i)"
   ]
  },
  {
   "cell_type": "markdown",
   "metadata": {},
   "source": [
    "c. Palindrome is a word, phrase, or sequence that reads the same backwards as forwards. Write a function to print “Palindrome” if the input string is a palindrome, else “Not a Palindrome”.\n",
    "\n",
    "Eg: If input is “Rotator” the function should return “Palindrome” If input is “Insofe” the function should return “Not a Palindrome”"
   ]
  },
  {
   "cell_type": "code",
   "execution_count": 86,
   "metadata": {},
   "outputs": [
    {
     "name": "stdout",
     "output_type": "stream",
     "text": [
      "Palindrome\n",
      "Not a Palindrome\n",
      "Not a Palindrome\n",
      "Palindrome\n",
      "Palindrome\n"
     ]
    }
   ],
   "source": [
    "def check_if_palindrome(my_str):\n",
    "    # convert to lower case\n",
    "    my_str = my_str.lower()\n",
    "\n",
    "    # reverse the string\n",
    "    rev_str = reversed(my_str)\n",
    "\n",
    "    # check if the string is equal to its reverse\n",
    "    if list(my_str) == list(rev_str):\n",
    "        print(\"Palindrome\")\n",
    "    else:\n",
    "        print(\"Not a Palindrome\")\n",
    "        \n",
    "check_if_palindrome('Rotator')\n",
    "check_if_palindrome('Insofe')\n",
    "check_if_palindrome('Amith')\n",
    "check_if_palindrome('LLLLliriLLLLL')\n",
    "check_if_palindrome('aabbaa')"
   ]
  },
  {
   "cell_type": "markdown",
   "metadata": {},
   "source": [
    "d. Write a function that takes a string as an input and returns the sum of the numbers corresponding to each alphabets position from a to z. (Hint: can use a dictionary, handle cases of the input string)"
   ]
  },
  {
   "cell_type": "code",
   "execution_count": 87,
   "metadata": {},
   "outputs": [
    {
     "name": "stdout",
     "output_type": "stream",
     "text": [
      "51\n",
      "53\n",
      "215\n",
      "72\n"
     ]
    }
   ],
   "source": [
    "import string\n",
    "\n",
    "# confirmed with Manoj can use only lower case alphabets\n",
    "# generating dictionary of lower case alphabets\n",
    "alpha_dict = dict(zip(string.ascii_lowercase, range(1,27)))\n",
    "\n",
    "def sum_str_values(str):\n",
    "    sum = 0\n",
    "    for i in str:\n",
    "#         converting the character to lower case and extracting value from dictionary\n",
    "#         print(alpha_dict[i.lower()])\n",
    "        sum += alpha_dict[i.lower()]\n",
    "    print(sum)\n",
    "    \n",
    "sum_str_values(\"Amith\")        \n",
    "sum_str_values(\"Manoj\")\n",
    "sum_str_values(\"iytfhGFGDFHJKNfsxvc\")\n",
    "sum_str_values(\"Regards\")"
   ]
  },
  {
   "cell_type": "code",
   "execution_count": null,
   "metadata": {},
   "outputs": [],
   "source": []
  },
  {
   "cell_type": "code",
   "execution_count": null,
   "metadata": {},
   "outputs": [],
   "source": []
  }
 ],
 "metadata": {
  "kernelspec": {
   "display_name": "Python 3",
   "language": "python",
   "name": "python3"
  },
  "language_info": {
   "codemirror_mode": {
    "name": "ipython",
    "version": 3
   },
   "file_extension": ".py",
   "mimetype": "text/x-python",
   "name": "python",
   "nbconvert_exporter": "python",
   "pygments_lexer": "ipython3",
   "version": "3.6.5"
  }
 },
 "nbformat": 4,
 "nbformat_minor": 2
}
