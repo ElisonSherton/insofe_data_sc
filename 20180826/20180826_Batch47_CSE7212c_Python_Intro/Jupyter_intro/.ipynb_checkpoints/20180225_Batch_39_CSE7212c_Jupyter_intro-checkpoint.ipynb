{
 "cells": [
  {
   "cell_type": "code",
   "execution_count": 1,
   "metadata": {},
   "outputs": [
    {
     "name": "stdout",
     "output_type": "stream",
     "text": [
      "Hello World\n"
     ]
    }
   ],
   "source": [
    "print (\"Hello World\")"
   ]
  },
  {
   "cell_type": "code",
   "execution_count": 5,
   "metadata": {},
   "outputs": [
    {
     "name": "stdout",
     "output_type": "stream",
     "text": [
      "\u001b[31mDEPRECATION: The default format will switch to columns in the future. You can use --format=(legacy|columns) (or define a format=(legacy|columns) in your pip.conf under the [list] section) to disable this warning.\u001b[0m\r\n",
      "bleach (2.1.2)\r\n",
      "certifi (2018.1.18)\r\n",
      "decorator (4.2.1)\r\n",
      "entrypoints (0.2.3)\r\n",
      "html5lib (1.0.1)\r\n",
      "ipykernel (4.8.2)\r\n",
      "ipython (6.2.1)\r\n",
      "ipython-genutils (0.2.0)\r\n",
      "jedi (0.11.1)\r\n",
      "Jinja2 (2.10)\r\n",
      "jsonschema (2.6.0)\r\n",
      "jupyter-client (5.2.2)\r\n",
      "jupyter-core (4.4.0)\r\n",
      "MarkupSafe (1.0)\r\n",
      "mistune (0.8.3)\r\n",
      "nbconvert (5.3.1)\r\n",
      "nbformat (4.4.0)\r\n",
      "notebook (5.4.0)\r\n",
      "pandocfilters (1.4.2)\r\n",
      "parso (0.1.1)\r\n",
      "pexpect (4.4.0)\r\n",
      "pickleshare (0.7.4)\r\n",
      "pip (9.0.1)\r\n",
      "prompt-toolkit (1.0.15)\r\n",
      "ptyprocess (0.5.2)\r\n",
      "Pygments (2.2.0)\r\n",
      "python-dateutil (2.6.1)\r\n",
      "pyzmq (16.0.3)\r\n",
      "Send2Trash (1.5.0)\r\n",
      "setuptools (38.5.1)\r\n",
      "simplegeneric (0.8.1)\r\n",
      "six (1.11.0)\r\n",
      "terminado (0.8.1)\r\n",
      "testpath (0.3.1)\r\n",
      "tornado (4.5.3)\r\n",
      "traitlets (4.3.2)\r\n",
      "wcwidth (0.1.7)\r\n",
      "webencodings (0.5.1)\r\n",
      "wheel (0.30.0)\r\n"
     ]
    }
   ],
   "source": [
    "!pip list"
   ]
  },
  {
   "cell_type": "code",
   "execution_count": 3,
   "metadata": {},
   "outputs": [
    {
     "name": "stdout",
     "output_type": "stream",
     "text": [
      "# packages in environment at /home/gauran/anaconda2/envs/python3:\n",
      "#\n",
      "bleach                    2.1.2                    py36_0  \n",
      "ca-certificates           2017.08.26           h1d4fec5_0  \n",
      "certifi                   2018.1.18                py36_0  \n",
      "decorator                 4.2.1                    py36_0  \n",
      "entrypoints               0.2.3            py36h1aec115_2  \n",
      "gmp                       6.1.2                h6c8ec71_1  \n",
      "html5lib                  1.0.1            py36h2f9c1c0_0  \n",
      "ipykernel                 4.8.2                    py36_0  \n",
      "ipython                   6.2.1            py36h88c514a_1  \n",
      "ipython_genutils          0.2.0            py36hb52b0d5_0  \n",
      "jedi                      0.11.1                   py36_0  \n",
      "jinja2                    2.10             py36ha16c418_0  \n",
      "jsonschema                2.6.0            py36h006f8b5_0  \n",
      "jupyter_client            5.2.2                    py36_0  \n",
      "jupyter_core              4.4.0            py36h7c827e3_0  \n",
      "libedit                   3.1                  heed3624_0  \n",
      "libffi                    3.2.1                hd88cf55_4  \n",
      "libgcc-ng                 7.2.0                h7cc24e2_2  \n",
      "libsodium                 1.0.15               hf101ebd_0  \n",
      "libstdcxx-ng              7.2.0                h7a57d05_2  \n",
      "markupsafe                1.0              py36hd9260cd_1  \n",
      "mistune                   0.8.3                    py36_0  \n",
      "nbconvert                 5.3.1            py36hb41ffb7_0  \n",
      "nbformat                  4.4.0            py36h31c9010_0  \n",
      "ncurses                   6.0                  h9df7e31_2  \n",
      "notebook                  5.4.0                    py36_0  \n",
      "openssl                   1.0.2n               hb7f436b_0  \n",
      "pandoc                    1.19.2.1             hea2e7c5_1  \n",
      "pandocfilters             1.4.2            py36ha6701b7_1  \n",
      "parso                     0.1.1            py36h35f843b_0  \n",
      "pexpect                   4.4.0                    py36_0  \n",
      "pickleshare               0.7.4            py36h63277f8_0  \n",
      "pip                       9.0.1            py36h6c6f9ce_4  \n",
      "prompt_toolkit            1.0.15           py36h17d85b1_0  \n",
      "ptyprocess                0.5.2            py36h69acd42_0  \n",
      "pygments                  2.2.0            py36h0d3125c_0  \n",
      "python                    3.6.4                hc3d631a_1  \n",
      "python-dateutil           2.6.1            py36h88d3b88_1  \n",
      "pyzmq                     16.0.3           py36he2533c7_0  \n",
      "readline                  7.0                  ha6073c6_4  \n",
      "send2trash                1.5.0                    py36_0  \n",
      "setuptools                38.5.1                   py36_0  \n",
      "simplegeneric             0.8.1                    py36_2  \n",
      "six                       1.11.0           py36h372c433_1  \n",
      "sqlite                    3.22.0               h1bed415_0  \n",
      "terminado                 0.8.1                    py36_1  \n",
      "testpath                  0.3.1            py36h8cadb63_0  \n",
      "tk                        8.6.7                hc745277_3  \n",
      "tornado                   4.5.3                    py36_0  \n",
      "traitlets                 4.3.2            py36h674d592_0  \n",
      "wcwidth                   0.1.7            py36hdf4376a_0  \n",
      "webencodings              0.5.1            py36h800622e_1  \n",
      "wheel                     0.30.0           py36hfd4bba0_1  \n",
      "xz                        5.2.3                h55aa19d_2  \n",
      "zeromq                    4.2.2                hbedb6e5_2  \n",
      "zlib                      1.2.11               ha838bed_2  \n"
     ]
    }
   ],
   "source": [
    "!conda list"
   ]
  },
  {
   "cell_type": "code",
   "execution_count": 4,
   "metadata": {},
   "outputs": [
    {
     "name": "stdout",
     "output_type": "stream",
     "text": [
      " Volume in drive C has no label.\n",
      " Volume Serial Number is 0EDD-403C\n",
      "\n",
      " Directory of C:\\Users\\jeevan\\Desktop\\20170819_Batch_32_CSE7212c_Python_Basics_Lab\n",
      "\n",
      "17-08-2017  03:04 PM    <DIR>          .\n",
      "17-08-2017  03:04 PM    <DIR>          ..\n",
      "17-08-2017  03:04 PM    <DIR>          .ipynb_checkpoints\n",
      "17-08-2017  12:50 PM           154,874 20170819_Batch_32_CSE7212c_Python_Intro.ipynb\n",
      "17-08-2017  12:50 PM            62,750 20170819_Batch_32_CSE7212c_Python_Preprocessing.ipynb\n",
      "07-08-2017  07:05 PM           789,022 Java, R, RStudio and Anaconda(Python) and Libraries Installation Steps.docx\n",
      "17-08-2017  03:04 PM            43,039 Jupyter_intro.ipynb\n",
      "02-02-2017  02:11 PM            62,677 python_intro.ipynb\n",
      "12-08-2017  07:30 PM            28,629 test.csv\n",
      "12-08-2017  07:30 PM            61,194 train.csv\n",
      "               7 File(s)      1,202,185 bytes\n",
      "               3 Dir(s)  146,523,725,824 bytes free\n"
     ]
    }
   ],
   "source": [
    "!dir"
   ]
  },
  {
   "cell_type": "code",
   "execution_count": 5,
   "metadata": {},
   "outputs": [
    {
     "data": {
      "text/plain": [
       "u'C:\\\\Users\\\\jeevan\\\\Desktop\\\\20170819_Batch_32_CSE7212c_Python_Basics_Lab'"
      ]
     },
     "execution_count": 5,
     "metadata": {},
     "output_type": "execute_result"
    }
   ],
   "source": [
    "%pwd"
   ]
  }
 ],
 "metadata": {
  "anaconda-cloud": {},
  "kernelspec": {
   "display_name": "Python 3",
   "language": "python",
   "name": "python3"
  },
  "language_info": {
   "codemirror_mode": {
    "name": "ipython",
    "version": 3
   },
   "file_extension": ".py",
   "mimetype": "text/x-python",
   "name": "python",
   "nbconvert_exporter": "python",
   "pygments_lexer": "ipython3",
   "version": "3.6.4"
  }
 },
 "nbformat": 4,
 "nbformat_minor": 1
}
