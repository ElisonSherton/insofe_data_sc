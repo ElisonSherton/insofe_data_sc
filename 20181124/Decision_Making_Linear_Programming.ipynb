{
 "cells": [
  {
   "cell_type": "code",
   "execution_count": 7,
   "metadata": {},
   "outputs": [],
   "source": [
    "import pulp\n",
    "from pulp import *"
   ]
  },
  {
   "cell_type": "markdown",
   "metadata": {},
   "source": [
    "# 1st question"
   ]
  },
  {
   "cell_type": "code",
   "execution_count": 8,
   "metadata": {},
   "outputs": [],
   "source": [
    "manufacturing_products_lp = pulp.LpProblem(\"Manufacturing 2 types of products and 2 types of resources\",pulp.LpMaximize)"
   ]
  },
  {
   "cell_type": "code",
   "execution_count": 9,
   "metadata": {},
   "outputs": [],
   "source": [
    "P1 = pulp.LpVariable('P1',lowBound=0,cat='Integer')\n",
    "P2 = pulp.LpVariable('P2',lowBound=0,cat='Integer')"
   ]
  },
  {
   "cell_type": "code",
   "execution_count": 10,
   "metadata": {},
   "outputs": [],
   "source": [
    "manufacturing_products_lp += 6*P1+5*P2, '\"Z\" Maximize the profit'"
   ]
  },
  {
   "cell_type": "code",
   "execution_count": 11,
   "metadata": {},
   "outputs": [],
   "source": [
    "manufacturing_products_lp += P1+P2 <= 5, \"C1\"\n",
    "manufacturing_products_lp += 3*P1+2*P2 <= 12, \"C2\""
   ]
  },
  {
   "cell_type": "code",
   "execution_count": 12,
   "metadata": {},
   "outputs": [
    {
     "data": {
      "text/plain": [
       "'Optimal'"
      ]
     },
     "execution_count": 12,
     "metadata": {},
     "output_type": "execute_result"
    }
   ],
   "source": [
    "manufacturing_products_lp.solve()\n",
    "pulp.LpStatus[manufacturing_products_lp.status]"
   ]
  },
  {
   "cell_type": "code",
   "execution_count": 13,
   "metadata": {},
   "outputs": [
    {
     "name": "stdout",
     "output_type": "stream",
     "text": [
      "The optimal soln:  27.0\n"
     ]
    }
   ],
   "source": [
    "print(\"The optimal soln: \",pulp.value(manufacturing_products_lp.objective))"
   ]
  },
  {
   "cell_type": "code",
   "execution_count": 14,
   "metadata": {},
   "outputs": [
    {
     "name": "stdout",
     "output_type": "stream",
     "text": [
      "P1 2.0\n",
      "P2 3.0\n"
     ]
    }
   ],
   "source": [
    "for variable in manufacturing_products_lp.variables():\n",
    "    print(variable.name,variable.varValue)"
   ]
  },
  {
   "cell_type": "code",
   "execution_count": null,
   "metadata": {},
   "outputs": [],
   "source": []
  },
  {
   "cell_type": "markdown",
   "metadata": {},
   "source": [
    "# 2nd question"
   ]
  },
  {
   "cell_type": "code",
   "execution_count": 15,
   "metadata": {},
   "outputs": [],
   "source": [
    "max_profit = pulp.LpProblem(\"Manufacturing 2 types of hot tubs with labour and tubing\",pulp.LpMaximize)"
   ]
  },
  {
   "cell_type": "code",
   "execution_count": 16,
   "metadata": {},
   "outputs": [],
   "source": [
    "A = pulp.LpVariable('A',lowBound=0,cat='Integer')\n",
    "H = pulp.LpVariable('H',lowBound=0,cat='Integer')"
   ]
  },
  {
   "cell_type": "code",
   "execution_count": 17,
   "metadata": {},
   "outputs": [],
   "source": [
    "max_profit += 350*A+300*H, '\"Z\" Maximize the profit'"
   ]
  },
  {
   "cell_type": "code",
   "execution_count": 18,
   "metadata": {},
   "outputs": [],
   "source": [
    "max_profit += A+H <= 200, \"C1\"\n",
    "max_profit += 9*A+12*H <= 1566, \"C2\"\n",
    "max_profit += 6*A+16*H <= 2880, \"C3\""
   ]
  },
  {
   "cell_type": "code",
   "execution_count": 19,
   "metadata": {},
   "outputs": [
    {
     "data": {
      "text/plain": [
       "'Optimal'"
      ]
     },
     "execution_count": 19,
     "metadata": {},
     "output_type": "execute_result"
    }
   ],
   "source": [
    "max_profit.solve()\n",
    "pulp.LpStatus[max_profit.status]"
   ]
  },
  {
   "cell_type": "code",
   "execution_count": 20,
   "metadata": {},
   "outputs": [
    {
     "name": "stdout",
     "output_type": "stream",
     "text": [
      "The optimal soln:  60900.0\n"
     ]
    }
   ],
   "source": [
    "print(\"The optimal soln: \",pulp.value(max_profit.objective))"
   ]
  },
  {
   "cell_type": "code",
   "execution_count": 21,
   "metadata": {},
   "outputs": [
    {
     "name": "stdout",
     "output_type": "stream",
     "text": [
      "A 174.0\n",
      "H 0.0\n"
     ]
    }
   ],
   "source": [
    "for variable in max_profit.variables():\n",
    "    print(variable.name,variable.varValue)"
   ]
  },
  {
   "cell_type": "code",
   "execution_count": null,
   "metadata": {},
   "outputs": [],
   "source": []
  }
 ],
 "metadata": {
  "kernelspec": {
   "display_name": "Python 3",
   "language": "python",
   "name": "python3"
  },
  "language_info": {
   "codemirror_mode": {
    "name": "ipython",
    "version": 3
   },
   "file_extension": ".py",
   "mimetype": "text/x-python",
   "name": "python",
   "nbconvert_exporter": "python",
   "pygments_lexer": "ipython3",
   "version": "3.6.5"
  }
 },
 "nbformat": 4,
 "nbformat_minor": 2
}
